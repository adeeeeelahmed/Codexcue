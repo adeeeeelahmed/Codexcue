{
  "nbformat": 4,
  "nbformat_minor": 0,
  "metadata": {
    "colab": {
      "provenance": [],
      "authorship_tag": "ABX9TyNGwT0sQaXIGPdM8Rdo08pn",
      "include_colab_link": true
    },
    "kernelspec": {
      "name": "python3",
      "display_name": "Python 3"
    },
    "language_info": {
      "name": "python"
    }
  },
  "cells": [
    {
      "cell_type": "markdown",
      "metadata": {
        "id": "view-in-github",
        "colab_type": "text"
      },
      "source": [
        "<a href=\"https://colab.research.google.com/github/adeeeeelahmed/Codexcue/blob/main/Laptop_Price_Prediction_Model.ipynb\" target=\"_parent\"><img src=\"https://colab.research.google.com/assets/colab-badge.svg\" alt=\"Open In Colab\"/></a>"
      ]
    },
    {
      "cell_type": "markdown",
      "source": [
        "Importing Libraries and Loading Data"
      ],
      "metadata": {
        "id": "ALeGhriie-79"
      }
    },
    {
      "cell_type": "code",
      "execution_count": 8,
      "metadata": {
        "id": "Mn43urJYeZCN"
      },
      "outputs": [],
      "source": [
        "import pandas as pd\n",
        "from sklearn.model_selection import train_test_split\n",
        "from sklearn.linear_model import LinearRegression\n",
        "from sklearn.ensemble import RandomForestRegressor\n",
        "from sklearn.metrics import mean_absolute_error, mean_squared_error\n",
        "import numpy as np\n"
      ]
    },
    {
      "cell_type": "code",
      "source": [
        "df = pd.read_csv('laptopPrice.csv')\n",
        "df.columns = df.columns.str.strip()\n",
        "print(df.head())\n",
        "print(df.columns)"
      ],
      "metadata": {
        "colab": {
          "base_uri": "https://localhost:8080/"
        },
        "id": "BIxcDh4feuIz",
        "outputId": "c2d96e91-d35d-4c55-8384-d58e2fbbbc75"
      },
      "execution_count": 9,
      "outputs": [
        {
          "output_type": "stream",
          "name": "stdout",
          "text": [
            "    brand processor_brand processor_name processor_gnrtn ram_gb ram_type  \\\n",
            "0    ASUS           Intel        Core i3            10th   4 GB     DDR4   \n",
            "1  Lenovo           Intel        Core i3            10th   4 GB     DDR4   \n",
            "2  Lenovo           Intel        Core i3            10th   4 GB     DDR4   \n",
            "3    ASUS           Intel        Core i5            10th   8 GB     DDR4   \n",
            "4    ASUS           Intel   Celeron Dual   Not Available   4 GB     DDR4   \n",
            "\n",
            "      ssd      hdd       os  os_bit graphic_card_gb  weight     warranty  \\\n",
            "0    0 GB  1024 GB  Windows  64-bit            0 GB  Casual  No warranty   \n",
            "1    0 GB  1024 GB  Windows  64-bit            0 GB  Casual  No warranty   \n",
            "2    0 GB  1024 GB  Windows  64-bit            0 GB  Casual  No warranty   \n",
            "3  512 GB     0 GB  Windows  32-bit            2 GB  Casual  No warranty   \n",
            "4    0 GB   512 GB  Windows  64-bit            0 GB  Casual  No warranty   \n",
            "\n",
            "  Touchscreen msoffice  Price   rating  Number of Ratings  Number of Reviews  \n",
            "0          No       No  34649  2 stars                  3                  0  \n",
            "1          No       No  38999  3 stars                 65                  5  \n",
            "2          No       No  39999  3 stars                  8                  1  \n",
            "3          No       No  69990  3 stars                  0                  0  \n",
            "4          No       No  26990  3 stars                  0                  0  \n",
            "Index(['brand', 'processor_brand', 'processor_name', 'processor_gnrtn',\n",
            "       'ram_gb', 'ram_type', 'ssd', 'hdd', 'os', 'os_bit', 'graphic_card_gb',\n",
            "       'weight', 'warranty', 'Touchscreen', 'msoffice', 'Price', 'rating',\n",
            "       'Number of Ratings', 'Number of Reviews'],\n",
            "      dtype='object')\n"
          ]
        }
      ]
    },
    {
      "cell_type": "markdown",
      "source": [
        "Preprocessing, Splitting, Training and Testing Sets"
      ],
      "metadata": {
        "id": "sh38EbQkfGyN"
      }
    },
    {
      "cell_type": "code",
      "source": [
        "X = df.drop(['brand', 'Price'], axis=1)\n",
        "y = df['Price']\n",
        "\n",
        "X = pd.get_dummies(X, drop_first=True)"
      ],
      "metadata": {
        "id": "UyVrIHrbeyRg"
      },
      "execution_count": 10,
      "outputs": []
    },
    {
      "cell_type": "code",
      "source": [
        "X_train, X_test, y_train, y_test = train_test_split(X, y, test_size=0.2, random_state=42)"
      ],
      "metadata": {
        "id": "hZ-qrRtqe1JE"
      },
      "execution_count": 11,
      "outputs": []
    },
    {
      "cell_type": "markdown",
      "source": [
        "Training Models and Predictions"
      ],
      "metadata": {
        "id": "chpiVTvDfQyX"
      }
    },
    {
      "cell_type": "code",
      "source": [
        "model_lr = LinearRegression()\n",
        "model_rf = RandomForestRegressor()\n",
        "\n",
        "model_lr.fit(X_train, y_train)\n",
        "model_rf.fit(X_train, y_train)"
      ],
      "metadata": {
        "colab": {
          "base_uri": "https://localhost:8080/",
          "height": 75
        },
        "id": "z2HdqM-0e3Z3",
        "outputId": "bf524d37-5c50-40e4-d77c-74da1dc73c49"
      },
      "execution_count": 12,
      "outputs": [
        {
          "output_type": "execute_result",
          "data": {
            "text/plain": [
              "RandomForestRegressor()"
            ],
            "text/html": [
              "<style>#sk-container-id-2 {color: black;background-color: white;}#sk-container-id-2 pre{padding: 0;}#sk-container-id-2 div.sk-toggleable {background-color: white;}#sk-container-id-2 label.sk-toggleable__label {cursor: pointer;display: block;width: 100%;margin-bottom: 0;padding: 0.3em;box-sizing: border-box;text-align: center;}#sk-container-id-2 label.sk-toggleable__label-arrow:before {content: \"▸\";float: left;margin-right: 0.25em;color: #696969;}#sk-container-id-2 label.sk-toggleable__label-arrow:hover:before {color: black;}#sk-container-id-2 div.sk-estimator:hover label.sk-toggleable__label-arrow:before {color: black;}#sk-container-id-2 div.sk-toggleable__content {max-height: 0;max-width: 0;overflow: hidden;text-align: left;background-color: #f0f8ff;}#sk-container-id-2 div.sk-toggleable__content pre {margin: 0.2em;color: black;border-radius: 0.25em;background-color: #f0f8ff;}#sk-container-id-2 input.sk-toggleable__control:checked~div.sk-toggleable__content {max-height: 200px;max-width: 100%;overflow: auto;}#sk-container-id-2 input.sk-toggleable__control:checked~label.sk-toggleable__label-arrow:before {content: \"▾\";}#sk-container-id-2 div.sk-estimator input.sk-toggleable__control:checked~label.sk-toggleable__label {background-color: #d4ebff;}#sk-container-id-2 div.sk-label input.sk-toggleable__control:checked~label.sk-toggleable__label {background-color: #d4ebff;}#sk-container-id-2 input.sk-hidden--visually {border: 0;clip: rect(1px 1px 1px 1px);clip: rect(1px, 1px, 1px, 1px);height: 1px;margin: -1px;overflow: hidden;padding: 0;position: absolute;width: 1px;}#sk-container-id-2 div.sk-estimator {font-family: monospace;background-color: #f0f8ff;border: 1px dotted black;border-radius: 0.25em;box-sizing: border-box;margin-bottom: 0.5em;}#sk-container-id-2 div.sk-estimator:hover {background-color: #d4ebff;}#sk-container-id-2 div.sk-parallel-item::after {content: \"\";width: 100%;border-bottom: 1px solid gray;flex-grow: 1;}#sk-container-id-2 div.sk-label:hover label.sk-toggleable__label {background-color: #d4ebff;}#sk-container-id-2 div.sk-serial::before {content: \"\";position: absolute;border-left: 1px solid gray;box-sizing: border-box;top: 0;bottom: 0;left: 50%;z-index: 0;}#sk-container-id-2 div.sk-serial {display: flex;flex-direction: column;align-items: center;background-color: white;padding-right: 0.2em;padding-left: 0.2em;position: relative;}#sk-container-id-2 div.sk-item {position: relative;z-index: 1;}#sk-container-id-2 div.sk-parallel {display: flex;align-items: stretch;justify-content: center;background-color: white;position: relative;}#sk-container-id-2 div.sk-item::before, #sk-container-id-2 div.sk-parallel-item::before {content: \"\";position: absolute;border-left: 1px solid gray;box-sizing: border-box;top: 0;bottom: 0;left: 50%;z-index: -1;}#sk-container-id-2 div.sk-parallel-item {display: flex;flex-direction: column;z-index: 1;position: relative;background-color: white;}#sk-container-id-2 div.sk-parallel-item:first-child::after {align-self: flex-end;width: 50%;}#sk-container-id-2 div.sk-parallel-item:last-child::after {align-self: flex-start;width: 50%;}#sk-container-id-2 div.sk-parallel-item:only-child::after {width: 0;}#sk-container-id-2 div.sk-dashed-wrapped {border: 1px dashed gray;margin: 0 0.4em 0.5em 0.4em;box-sizing: border-box;padding-bottom: 0.4em;background-color: white;}#sk-container-id-2 div.sk-label label {font-family: monospace;font-weight: bold;display: inline-block;line-height: 1.2em;}#sk-container-id-2 div.sk-label-container {text-align: center;}#sk-container-id-2 div.sk-container {/* jupyter's `normalize.less` sets `[hidden] { display: none; }` but bootstrap.min.css set `[hidden] { display: none !important; }` so we also need the `!important` here to be able to override the default hidden behavior on the sphinx rendered scikit-learn.org. See: https://github.com/scikit-learn/scikit-learn/issues/21755 */display: inline-block !important;position: relative;}#sk-container-id-2 div.sk-text-repr-fallback {display: none;}</style><div id=\"sk-container-id-2\" class=\"sk-top-container\"><div class=\"sk-text-repr-fallback\"><pre>RandomForestRegressor()</pre><b>In a Jupyter environment, please rerun this cell to show the HTML representation or trust the notebook. <br />On GitHub, the HTML representation is unable to render, please try loading this page with nbviewer.org.</b></div><div class=\"sk-container\" hidden><div class=\"sk-item\"><div class=\"sk-estimator sk-toggleable\"><input class=\"sk-toggleable__control sk-hidden--visually\" id=\"sk-estimator-id-2\" type=\"checkbox\" checked><label for=\"sk-estimator-id-2\" class=\"sk-toggleable__label sk-toggleable__label-arrow\">RandomForestRegressor</label><div class=\"sk-toggleable__content\"><pre>RandomForestRegressor()</pre></div></div></div></div></div>"
            ]
          },
          "metadata": {},
          "execution_count": 12
        }
      ]
    },
    {
      "cell_type": "code",
      "source": [
        "pred_lr = model_lr.predict(X_test)\n",
        "pred_rf = model_rf.predict(X_test)"
      ],
      "metadata": {
        "id": "UX5q5nXke6VF"
      },
      "execution_count": 13,
      "outputs": []
    },
    {
      "cell_type": "markdown",
      "source": [
        "Evaluation"
      ],
      "metadata": {
        "id": "ohs9YPz0fU9h"
      }
    },
    {
      "cell_type": "code",
      "source": [
        "mae_lr = mean_absolute_error(y_test, pred_lr)\n",
        "mae_rf = mean_absolute_error(y_test, pred_rf)\n",
        "\n",
        "rmse_lr = np.sqrt(mean_squared_error(y_test, pred_lr))\n",
        "rmse_rf = np.sqrt(mean_squared_error(y_test, pred_rf))\n",
        "\n",
        "print(\"Linear Regression Metrics:\")\n",
        "print(f\"MAE: {mae_lr}\")\n",
        "print(f\"RMSE: {rmse_lr}\")\n",
        "\n",
        "print(\"\\nRandom Forest Regression Metrics:\")\n",
        "print(f\"MAE: {mae_rf}\")\n",
        "print(f\"RMSE: {rmse_rf}\")"
      ],
      "metadata": {
        "colab": {
          "base_uri": "https://localhost:8080/"
        },
        "id": "0l5RQTghe80g",
        "outputId": "c0f3582f-909d-4637-eb3b-6c5273732417"
      },
      "execution_count": 14,
      "outputs": [
        {
          "output_type": "stream",
          "name": "stdout",
          "text": [
            "Linear Regression Metrics:\n",
            "MAE: 15084.72368024478\n",
            "RMSE: 24658.703794786354\n",
            "\n",
            "Random Forest Regression Metrics:\n",
            "MAE: 12031.32312135642\n",
            "RMSE: 21569.446845430724\n"
          ]
        }
      ]
    }
  ]
}